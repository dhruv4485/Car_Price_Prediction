{
 "cells": [
  {
   "cell_type": "code",
   "execution_count": 1,
   "id": "974c1467-6b57-4bd4-9c44-16e1a63651e3",
   "metadata": {},
   "outputs": [
    {
     "name": "stdout",
     "output_type": "stream",
     "text": [
      "name               0\n",
      "year               0\n",
      "selling_price      0\n",
      "km_driven          0\n",
      "fuel               0\n",
      "seller_type        0\n",
      "transmission       0\n",
      "owner              0\n",
      "mileage          221\n",
      "engine           221\n",
      "max_power        215\n",
      "torque           221\n",
      "seats            221\n",
      "dtype: int64\n",
      "name             0\n",
      "year             0\n",
      "selling_price    0\n",
      "km_driven        0\n",
      "fuel             0\n",
      "seller_type      0\n",
      "transmission     0\n",
      "owner            0\n",
      "mileage          0\n",
      "engine           0\n",
      "max_power        0\n",
      "torque           0\n",
      "seats            0\n",
      "dtype: int64\n",
      "                              name  year  selling_price  km_driven    fuel  \\\n",
      "0           Maruti Swift Dzire VDI  2014         450000     145500  Diesel   \n",
      "1     Skoda Rapid 1.5 TDI Ambition  2014         370000     120000  Diesel   \n",
      "2         Honda City 2017-2020 EXi  2006         158000     140000  Petrol   \n",
      "3        Hyundai i20 Sportz Diesel  2010         225000     127000  Diesel   \n",
      "4           Maruti Swift VXI BSIII  2007         130000     120000  Petrol   \n",
      "...                            ...   ...            ...        ...     ...   \n",
      "7901             Hyundai i20 Magna  2013         320000     110000  Petrol   \n",
      "7902         Hyundai Verna CRDi SX  2007         135000     119000  Diesel   \n",
      "7903        Maruti Swift Dzire ZDi  2009         382000     120000  Diesel   \n",
      "7904               Tata Indigo CR4  2013         290000      25000  Diesel   \n",
      "7905               Tata Indigo CR4  2013         290000      25000  Diesel   \n",
      "\n",
      "     seller_type transmission                 owner     mileage   engine  \\\n",
      "0     Individual       Manual           First Owner   23.4 kmpl  1248 CC   \n",
      "1     Individual       Manual          Second Owner  21.14 kmpl  1498 CC   \n",
      "2     Individual       Manual           Third Owner   17.7 kmpl  1497 CC   \n",
      "3     Individual       Manual           First Owner   23.0 kmpl  1396 CC   \n",
      "4     Individual       Manual           First Owner   16.1 kmpl  1298 CC   \n",
      "...          ...          ...                   ...         ...      ...   \n",
      "7901  Individual       Manual           First Owner   18.5 kmpl  1197 CC   \n",
      "7902  Individual       Manual  Fourth & Above Owner   16.8 kmpl  1493 CC   \n",
      "7903  Individual       Manual           First Owner   19.3 kmpl  1248 CC   \n",
      "7904  Individual       Manual           First Owner  23.57 kmpl  1396 CC   \n",
      "7905  Individual       Manual           First Owner  23.57 kmpl  1396 CC   \n",
      "\n",
      "       max_power                     torque  seats  \n",
      "0         74 bhp             190Nm@ 2000rpm    5.0  \n",
      "1     103.52 bhp        250Nm@ 1500-2500rpm    5.0  \n",
      "2         78 bhp      12.7@ 2,700(kgm@ rpm)    5.0  \n",
      "3         90 bhp   22.4 kgm at 1750-2750rpm    5.0  \n",
      "4       88.2 bhp      11.5@ 4,500(kgm@ rpm)    5.0  \n",
      "...          ...                        ...    ...  \n",
      "7901   82.85 bhp           113.7Nm@ 4000rpm    5.0  \n",
      "7902     110 bhp  24@ 1,900-2,750(kgm@ rpm)    5.0  \n",
      "7903    73.9 bhp             190Nm@ 2000rpm    5.0  \n",
      "7904      70 bhp        140Nm@ 1800-3000rpm    5.0  \n",
      "7905      70 bhp        140Nm@ 1800-3000rpm    5.0  \n",
      "\n",
      "[7906 rows x 13 columns]\n"
     ]
    }
   ],
   "source": [
    "#goal..>predict the price of the second hand cars on the basis of the  condition \n",
    "#dependent variable..>\n",
    "\n",
    "import pandas as pd\n",
    "df=pd.read_csv(r\"C:\\Users\\dell4\\OneDrive\\Desktop\\Car.csv.xls\")\n",
    "df=df.iloc[:,1:]\n",
    "\n",
    "print(df.isna().sum())\n",
    "df=df.dropna()\n",
    "print(df.isna().sum())\n",
    "df=df.reset_index(drop=True)  #to reset the index of the dataset  \n",
    "print(df)                     # the parameter of drop=True that the old index should be dropped and not include as a column in the dataframe\n"
   ]
  },
  {
   "cell_type": "code",
   "execution_count": 2,
   "id": "e6817265-280f-412b-a036-00cfb1b6216b",
   "metadata": {},
   "outputs": [
    {
     "name": "stdout",
     "output_type": "stream",
     "text": [
      "seats\n",
      "5.0     6254\n",
      "7.0     1120\n",
      "8.0      235\n",
      "4.0      133\n",
      "9.0       80\n",
      "6.0       62\n",
      "10.0      19\n",
      "2.0        2\n",
      "14.0       1\n",
      "Name: count, dtype: int64\n"
     ]
    }
   ],
   "source": [
    "#seats\n",
    "print(df[\"seats\"].value_counts())\n"
   ]
  },
  {
   "cell_type": "code",
   "execution_count": 3,
   "id": "8e069117-62fe-4e98-81c7-b1de40f41c0f",
   "metadata": {},
   "outputs": [
    {
     "name": "stdout",
     "output_type": "stream",
     "text": [
      "                              name  year  selling_price  km_driven    fuel  \\\n",
      "0           Maruti Swift Dzire VDI  2014         450000     145500  Diesel   \n",
      "1     Skoda Rapid 1.5 TDI Ambition  2014         370000     120000  Diesel   \n",
      "2         Honda City 2017-2020 EXi  2006         158000     140000  Petrol   \n",
      "3        Hyundai i20 Sportz Diesel  2010         225000     127000  Diesel   \n",
      "4           Maruti Swift VXI BSIII  2007         130000     120000  Petrol   \n",
      "...                            ...   ...            ...        ...     ...   \n",
      "7901             Hyundai i20 Magna  2013         320000     110000  Petrol   \n",
      "7902         Hyundai Verna CRDi SX  2007         135000     119000  Diesel   \n",
      "7903        Maruti Swift Dzire ZDi  2009         382000     120000  Diesel   \n",
      "7904               Tata Indigo CR4  2013         290000      25000  Diesel   \n",
      "7905               Tata Indigo CR4  2013         290000      25000  Diesel   \n",
      "\n",
      "     seller_type transmission                 owner     mileage   engine  \\\n",
      "0     Individual       Manual           First Owner   23.4 kmpl  1248 CC   \n",
      "1     Individual       Manual          Second Owner  21.14 kmpl  1498 CC   \n",
      "2     Individual       Manual           Third Owner   17.7 kmpl  1497 CC   \n",
      "3     Individual       Manual           First Owner   23.0 kmpl  1396 CC   \n",
      "4     Individual       Manual           First Owner   16.1 kmpl  1298 CC   \n",
      "...          ...          ...                   ...         ...      ...   \n",
      "7901  Individual       Manual           First Owner   18.5 kmpl  1197 CC   \n",
      "7902  Individual       Manual  Fourth & Above Owner   16.8 kmpl  1493 CC   \n",
      "7903  Individual       Manual           First Owner   19.3 kmpl  1248 CC   \n",
      "7904  Individual       Manual           First Owner  23.57 kmpl  1396 CC   \n",
      "7905  Individual       Manual           First Owner  23.57 kmpl  1396 CC   \n",
      "\n",
      "       max_power  seats  \n",
      "0         74 bhp    5.0  \n",
      "1     103.52 bhp    5.0  \n",
      "2         78 bhp    5.0  \n",
      "3         90 bhp    5.0  \n",
      "4       88.2 bhp    5.0  \n",
      "...          ...    ...  \n",
      "7901   82.85 bhp    5.0  \n",
      "7902     110 bhp    5.0  \n",
      "7903    73.9 bhp    5.0  \n",
      "7904      70 bhp    5.0  \n",
      "7905      70 bhp    5.0  \n",
      "\n",
      "[7906 rows x 12 columns]\n"
     ]
    }
   ],
   "source": [
    "#torque\n",
    "#unit...>newton meter\n",
    "\n",
    "df=df.drop(columns=\"torque\")\n",
    "print(df)"
   ]
  },
  {
   "cell_type": "markdown",
   "id": "20a8a28b-bd16-467f-9705-0db6b5290f3a",
   "metadata": {},
   "source": [
    "# max_power\n"
   ]
  },
  {
   "cell_type": "code",
   "execution_count": 5,
   "id": "de27b465-a069-43d4-859b-5dcfae94f17b",
   "metadata": {},
   "outputs": [
    {
     "name": "stdout",
     "output_type": "stream",
     "text": [
      "0           74\n",
      "1       103.52\n",
      "2           78\n",
      "3           90\n",
      "4         88.2\n",
      "         ...  \n",
      "7901     82.85\n",
      "7902       110\n",
      "7903      73.9\n",
      "7904        70\n",
      "7905        70\n",
      "Name: max_power, Length: 7906, dtype: object\n",
      "[840]\n",
      "name             Hyundai EON Era\n",
      "year                        2011\n",
      "selling_price             160000\n",
      "km_driven                  57000\n",
      "fuel                      Petrol\n",
      "seller_type           Individual\n",
      "transmission              Manual\n",
      "owner                First Owner\n",
      "mileage                21.1 kmpl\n",
      "engine                    814 CC\n",
      "max_power                   .bhp\n",
      "seats                        5.0\n",
      "Name: 840, dtype: object\n",
      "                              name  year  selling_price  km_driven    fuel  \\\n",
      "0           Maruti Swift Dzire VDI  2014         450000     145500  Diesel   \n",
      "1     Skoda Rapid 1.5 TDI Ambition  2014         370000     120000  Diesel   \n",
      "2         Honda City 2017-2020 EXi  2006         158000     140000  Petrol   \n",
      "3        Hyundai i20 Sportz Diesel  2010         225000     127000  Diesel   \n",
      "4           Maruti Swift VXI BSIII  2007         130000     120000  Petrol   \n",
      "...                            ...   ...            ...        ...     ...   \n",
      "7900             Hyundai i20 Magna  2013         320000     110000  Petrol   \n",
      "7901         Hyundai Verna CRDi SX  2007         135000     119000  Diesel   \n",
      "7902        Maruti Swift Dzire ZDi  2009         382000     120000  Diesel   \n",
      "7903               Tata Indigo CR4  2013         290000      25000  Diesel   \n",
      "7904               Tata Indigo CR4  2013         290000      25000  Diesel   \n",
      "\n",
      "     seller_type transmission                 owner     mileage   engine  \\\n",
      "0     Individual       Manual           First Owner   23.4 kmpl  1248 CC   \n",
      "1     Individual       Manual          Second Owner  21.14 kmpl  1498 CC   \n",
      "2     Individual       Manual           Third Owner   17.7 kmpl  1497 CC   \n",
      "3     Individual       Manual           First Owner   23.0 kmpl  1396 CC   \n",
      "4     Individual       Manual           First Owner   16.1 kmpl  1298 CC   \n",
      "...          ...          ...                   ...         ...      ...   \n",
      "7900  Individual       Manual           First Owner   18.5 kmpl  1197 CC   \n",
      "7901  Individual       Manual  Fourth & Above Owner   16.8 kmpl  1493 CC   \n",
      "7902  Individual       Manual           First Owner   19.3 kmpl  1248 CC   \n",
      "7903  Individual       Manual           First Owner  23.57 kmpl  1396 CC   \n",
      "7904  Individual       Manual           First Owner  23.57 kmpl  1396 CC   \n",
      "\n",
      "     max_power  seats  \n",
      "0           74    5.0  \n",
      "1       103.52    5.0  \n",
      "2           78    5.0  \n",
      "3           90    5.0  \n",
      "4         88.2    5.0  \n",
      "...        ...    ...  \n",
      "7900     82.85    5.0  \n",
      "7901       110    5.0  \n",
      "7902      73.9    5.0  \n",
      "7903        70    5.0  \n",
      "7904        70    5.0  \n",
      "\n",
      "[7905 rows x 12 columns]\n"
     ]
    }
   ],
   "source": [
    "#max power ...>remove bhp \n",
    "def fxn(x):\n",
    "    return x.split()[0]\n",
    "df['max_power']=df['max_power'].apply(fxn)\n",
    "print(df['max_power'])\n",
    "\n",
    "#df['max_power']=df['max_power'].astype(\"float32\")\n",
    "#print(df['max_power'])\n",
    "p=[]\n",
    "for i in range (len(df)):\n",
    "    try:\n",
    "        float(df.iloc[i,-2])\n",
    "    except:\n",
    "        p.append(i)\n",
    "print(p)\n",
    "print(df.iloc[840])     \n",
    "df=df.drop(index=p)\n",
    "df=df.reset_index(drop=True)\n",
    "print(df)"
   ]
  },
  {
   "cell_type": "code",
   "execution_count": 6,
   "id": "c67ffe44-15f6-497b-b0b2-101fe969acf6",
   "metadata": {},
   "outputs": [
    {
     "name": "stdout",
     "output_type": "stream",
     "text": [
      "0        74.000000\n",
      "1       103.519997\n",
      "2        78.000000\n",
      "3        90.000000\n",
      "4        88.199997\n",
      "           ...    \n",
      "7900     82.849998\n",
      "7901    110.000000\n",
      "7902     73.900002\n",
      "7903     70.000000\n",
      "7904     70.000000\n",
      "Name: max_power, Length: 7905, dtype: float32\n"
     ]
    }
   ],
   "source": [
    "df['max_power']=df['max_power'].astype(\"float32\")\n",
    "print(df['max_power'])\n",
    "#plt.hist(df[\"max_power\"])\n",
    "#plt.show()\n",
    "#plt.violinplot(df[\"max_power\"],showmeans=True)\n",
    "#plt.show()"
   ]
  },
  {
   "cell_type": "code",
   "execution_count": 7,
   "id": "ffdd4e67-6cfd-4d71-a58e-3afeb1d5cc68",
   "metadata": {},
   "outputs": [
    {
     "data": {
      "image/png": "[encoded data removed]",
      "text/plain": [
       "<Figure size 640x480 with 1 Axes>"
      ]
     },
     "metadata": {},
     "output_type": "display_data"
    }
   ],
   "source": [
    "#to check the relation between max_power and selling price\n",
    "import matplotlib.pyplot as plt\n",
    "plt.scatter(df['max_power'],df['selling_price'],color=\"r\")\n",
    "plt.ticklabel_format(style=\"plain\")\n",
    "plt.xlabel('power')\n",
    "plt.ylabel('price')\n",
    "plt.show()\n"
   ]
  },
  {
   "cell_type": "markdown",
   "id": "ec285e75-ccc1-4d31-a233-752ab5724dad",
   "metadata": {},
   "source": [
    "# engine"
   ]
  },
  {
   "cell_type": "code",
   "execution_count": 9,
   "id": "35829d77-940f-490c-8d3e-c726193aa33b",
   "metadata": {},
   "outputs": [
    {
     "data": {
      "text/plain": [
       "name              object\n",
       "year               int64\n",
       "selling_price      int64\n",
       "km_driven          int64\n",
       "fuel              object\n",
       "seller_type       object\n",
       "transmission      object\n",
       "owner             object\n",
       "mileage           object\n",
       "engine           float32\n",
       "max_power        float32\n",
       "seats            float64\n",
       "dtype: object"
      ]
     },
     "execution_count": 9,
     "metadata": {},
     "output_type": "execute_result"
    }
   ],
   "source": [
    "#engine\n",
    "df['engine']=df['engine'].apply(lambda x:x.split()[0])\n",
    "illegal=[]\n",
    "for i in range(len(df)):\n",
    "    try:\n",
    "        float(df.iloc[i,-3])\n",
    "    except:\n",
    "        illegal.append(i)\n",
    "df=df.drop(index=illegal).reset_index(drop=True)\n",
    "df['engine']=df['engine'].astype(\"float32\")\n",
    "df.dtypes"
   ]
  },
  {
   "cell_type": "code",
   "execution_count": 10,
   "id": "6a56f678-d4d0-47b6-b0b9-a70882099bdc",
   "metadata": {},
   "outputs": [
    {
     "data": {
      "image/png": "[encoded data removed]",
      "text/plain": [
       "<Figure size 640x480 with 1 Axes>"
      ]
     },
     "metadata": {},
     "output_type": "display_data"
    }
   ],
   "source": [
    "import matplotlib.pyplot as plt\n",
    "plt.scatter(df['max_power'],df['engine'],color=\"r\")\n",
    "plt.ticklabel_format(style=\"plain\")\n",
    "plt.xlabel('power')\n",
    "plt.ylabel('engine')\n",
    "plt.show()"
   ]
  },
  {
   "cell_type": "markdown",
   "id": "10a66ae9-465c-4e64-b34a-63aab2f02b24",
   "metadata": {},
   "source": [
    "# mileage"
   ]
  },
  {
   "cell_type": "code",
   "execution_count": 12,
   "id": "d41a6041-a65b-4808-8da7-81d04b3811f1",
   "metadata": {},
   "outputs": [
    {
     "name": "stdout",
     "output_type": "stream",
     "text": [
      "0        23.4\n",
      "1       21.14\n",
      "2        17.7\n",
      "3        23.0\n",
      "4        16.1\n",
      "        ...  \n",
      "7899     18.5\n",
      "7900     16.8\n",
      "7901     19.3\n",
      "7902    23.57\n",
      "7903    23.57\n",
      "Name: mileage, Length: 7904, dtype: object\n"
     ]
    }
   ],
   "source": [
    "def fxn(x):\n",
    "    return x.split()[0]\n",
    "df['mileage']=df['mileage'].apply(fxn)\n",
    "print(df['mileage'])"
   ]
  },
  {
   "cell_type": "code",
   "execution_count": 13,
   "id": "36885c5e-5f74-43ed-bd99-d699eabc110a",
   "metadata": {},
   "outputs": [
    {
     "name": "stdout",
     "output_type": "stream",
     "text": [
      "0       23.400000\n",
      "1       21.139999\n",
      "2       17.700001\n",
      "3       23.000000\n",
      "4       16.100000\n",
      "          ...    \n",
      "7899    18.500000\n",
      "7900    16.799999\n",
      "7901    19.299999\n",
      "7902    23.570000\n",
      "7903    23.570000\n",
      "Name: mileage, Length: 7904, dtype: float32\n",
      "[]\n",
      "                              name  year  selling_price  km_driven    fuel  \\\n",
      "0           Maruti Swift Dzire VDI  2014         450000     145500  Diesel   \n",
      "1     Skoda Rapid 1.5 TDI Ambition  2014         370000     120000  Diesel   \n",
      "2         Honda City 2017-2020 EXi  2006         158000     140000  Petrol   \n",
      "3        Hyundai i20 Sportz Diesel  2010         225000     127000  Diesel   \n",
      "4           Maruti Swift VXI BSIII  2007         130000     120000  Petrol   \n",
      "...                            ...   ...            ...        ...     ...   \n",
      "7899             Hyundai i20 Magna  2013         320000     110000  Petrol   \n",
      "7900         Hyundai Verna CRDi SX  2007         135000     119000  Diesel   \n",
      "7901        Maruti Swift Dzire ZDi  2009         382000     120000  Diesel   \n",
      "7902               Tata Indigo CR4  2013         290000      25000  Diesel   \n",
      "7903               Tata Indigo CR4  2013         290000      25000  Diesel   \n",
      "\n",
      "     seller_type transmission                 owner    mileage  engine  \\\n",
      "0     Individual       Manual           First Owner  23.400000  1248.0   \n",
      "1     Individual       Manual          Second Owner  21.139999  1498.0   \n",
      "2     Individual       Manual           Third Owner  17.700001  1497.0   \n",
      "3     Individual       Manual           First Owner  23.000000  1396.0   \n",
      "4     Individual       Manual           First Owner  16.100000  1298.0   \n",
      "...          ...          ...                   ...        ...     ...   \n",
      "7899  Individual       Manual           First Owner  18.500000  1197.0   \n",
      "7900  Individual       Manual  Fourth & Above Owner  16.799999  1493.0   \n",
      "7901  Individual       Manual           First Owner  19.299999  1248.0   \n",
      "7902  Individual       Manual           First Owner  23.570000  1396.0   \n",
      "7903  Individual       Manual           First Owner  23.570000  1396.0   \n",
      "\n",
      "       max_power  seats  \n",
      "0      74.000000    5.0  \n",
      "1     103.519997    5.0  \n",
      "2      78.000000    5.0  \n",
      "3      90.000000    5.0  \n",
      "4      88.199997    5.0  \n",
      "...          ...    ...  \n",
      "7899   82.849998    5.0  \n",
      "7900  110.000000    5.0  \n",
      "7901   73.900002    5.0  \n",
      "7902   70.000000    5.0  \n",
      "7903   70.000000    5.0  \n",
      "\n",
      "[7904 rows x 12 columns]\n"
     ]
    }
   ],
   "source": [
    "df['mileage']=df['mileage'].astype(\"float32\")\n",
    "print(df['mileage'])\n",
    "p=[]\n",
    "for i in range (len(df)):\n",
    "    try:\n",
    "        float(df.iloc[i,-4])\n",
    "    except:\n",
    "        p.append(i)\n",
    "print(p)\n",
    "df=df.drop(index=p)\n",
    "df=df.reset_index(drop=True)\n",
    "print(df)"
   ]
  },
  {
   "cell_type": "code",
   "execution_count": 14,
   "id": "38032693-b605-4f75-a30d-be86073f18d5",
   "metadata": {},
   "outputs": [
    {
     "data": {
      "image/png": "[encoded data removed]",
      "text/plain": [
       "<Figure size 640x480 with 1 Axes>"
      ]
     },
     "metadata": {},
     "output_type": "display_data"
    }
   ],
   "source": [
    "import matplotlib.pyplot as plt\n",
    "plt.scatter(df['max_power'],df['mileage'],color=\"r\")\n",
    "plt.ticklabel_format(style=\"plain\")\n",
    "plt.xlabel('power')\n",
    "plt.ylabel('mileage')\n",
    "plt.show()"
   ]
  },
  {
   "cell_type": "code",
   "execution_count": 15,
   "id": "e9c797c7-da0e-476c-ab81-6d1fd22ad91d",
   "metadata": {},
   "outputs": [
    {
     "name": "stdout",
     "output_type": "stream",
     "text": [
      "owner\n",
      "First Owner             5214\n",
      "Second Owner            2015\n",
      "Third Owner              510\n",
      "Fourth & Above Owner     160\n",
      "Test Drive Car             5\n",
      "Name: count, dtype: int64\n",
      "0       False\n",
      "1       False\n",
      "2       False\n",
      "3       False\n",
      "4       False\n",
      "        ...  \n",
      "7899    False\n",
      "7900    False\n",
      "7901    False\n",
      "7902    False\n",
      "7903    False\n",
      "Name: owner, Length: 7904, dtype: bool\n",
      "<bound method IndexOpsMixin.value_counts of 0                First Owner\n",
      "1               Second Owner\n",
      "2                Third Owner\n",
      "3                First Owner\n",
      "4                First Owner\n",
      "                ...         \n",
      "7899             First Owner\n",
      "7900    Fourth & Above Owner\n",
      "7901             First Owner\n",
      "7902             First Owner\n",
      "7903             First Owner\n",
      "Name: owner, Length: 7899, dtype: object>\n"
     ]
    }
   ],
   "source": [
    "#owner\n",
    "#print(df['owner'].values_counts())\n",
    "#merge\n",
    "\n",
    "df['owner']=df['owner'].replace({\"Fifth\":\"Fourth & Above Owner\"})\n",
    "print(df['owner'].value_counts())\n",
    "\n",
    "f=df[\"owner\"].isin([\"Test Drive Car\"])\n",
    "print(f)\n",
    "i=df.index[f]\n",
    "df=df.drop(i)\n",
    "print(df[\"owner\"].value_counts)\n",
    "#label encoding ....>apply"
   ]
  },
  {
   "cell_type": "code",
   "execution_count": 16,
   "id": "1764cacb-5fff-4f11-8f94-75c54680852a",
   "metadata": {},
   "outputs": [
    {
     "name": "stdout",
     "output_type": "stream",
     "text": [
      "seller_type\n",
      "Individual          6561\n",
      "Dealer              1102\n",
      "Trustmark Dealer     236\n",
      "Name: count, dtype: int64\n"
     ]
    },
    {
     "data": {
      "image/png": "[encoded data removed]",
      "text/plain": [
       "<Figure size 640x480 with 1 Axes>"
      ]
     },
     "metadata": {},
     "output_type": "display_data"
    }
   ],
   "source": [
    "print(df[\"seller_type\"].value_counts())\n",
    "#individual ...>person is buying friend or personal relation\n",
    "#local dealers\n",
    "#trust mark dealer..>car dekho\n",
    "#violin plot\n",
    "f=df[\"seller_type\"]==\"Individual\"\n",
    "#f1=df[\"seller_type\"]==\"Dealer\"\n",
    "#f2=df[\"seller_type\"]==\"Trustmark Dealer\"\n",
    "#plt.violinplot(df.loc[df[\"seller_type\"]==\"Individual\",\"selling_price\"])\n",
    "#plt.violinplot(df.loc[df[\"seller_type\"]==\"Dealer\",\"selling_price\"])\n",
    "#plt.violinplot(df.loc[df[\"seller_type\"]==\"Trustmark Dealer\",\"selling_price\"])\n",
    "plt.ticklabel_format(style=\"plain\")\n",
    "plt.violinplot([df.loc[df[\"seller_type\"]==\"Individual\",\"selling_price\"],df.loc[df[\"seller_type\"] ==\"Dealer\",\"selling_price\"],df.loc[df[\"seller_type\"]==\"Trustmark Dealer\",\"selling_price\"]])\n",
    "\n",
    "plt.xticks([1,2,3],[\"Individual\",\"Dealer\",\"Trustmark Dealer\"])\n",
    "\n",
    "plt.show()"
   ]
  },
  {
   "cell_type": "code",
   "execution_count": 17,
   "id": "baa7146a-6899-4ccd-8468-0b154791991a",
   "metadata": {},
   "outputs": [
    {
     "data": {
      "text/plain": [
       "<Axes: xlabel='selling_price', ylabel='seller_type'>"
      ]
     },
     "execution_count": 17,
     "metadata": {},
     "output_type": "execute_result"
    },
    {
     "data": {
      "image/png": "[encoded data removed]",
      "text/plain": [
       "<Figure size 640x480 with 1 Axes>"
      ]
     },
     "metadata": {},
     "output_type": "display_data"
    }
   ],
   "source": [
    "import seaborn\n",
    "plt.ticklabel_format(style=\"plain\")\n",
    "seaborn.violinplot(data=df,x=\"selling_price\",y=\"seller_type\")\n"
   ]
  },
  {
   "cell_type": "code",
   "execution_count": 18,
   "id": "ed2ab606-e06b-4ffc-a793-b2ba4f4ca983",
   "metadata": {},
   "outputs": [
    {
     "data": {
      "text/plain": [
       "<Axes: xlabel='selling_price', ylabel='owner'>"
      ]
     },
     "execution_count": 18,
     "metadata": {},
     "output_type": "execute_result"
    },
    {
     "data": {
      "image/png": "[encoded data removed]",
      "text/plain": [
       "<Figure size 640x480 with 1 Axes>"
      ]
     },
     "metadata": {},
     "output_type": "display_data"
    }
   ],
   "source": [
    "seaborn.violinplot(data=df,x=\"selling_price\",y=\"owner\")"
   ]
  },
  {
   "cell_type": "code",
   "execution_count": 19,
   "id": "8a97f194-411f-4b4c-901b-eea698b2e692",
   "metadata": {},
   "outputs": [
    {
     "name": "stdout",
     "output_type": "stream",
     "text": [
      "fuel\n",
      "Diesel    4298\n",
      "Petrol    3514\n",
      "CNG         52\n",
      "LPG         35\n",
      "Name: count, dtype: int64\n"
     ]
    }
   ],
   "source": [
    "print(df['fuel'].value_counts())"
   ]
  },
  {
   "cell_type": "code",
   "execution_count": 20,
   "id": "f68b1302-0e39-44fb-ba7d-8c414309243d",
   "metadata": {},
   "outputs": [
    {
     "name": "stdout",
     "output_type": "stream",
     "text": [
      "fuel\n",
      "Diesel    4298\n",
      "Petrol    3514\n",
      "Eco         87\n",
      "Name: count, dtype: int64\n"
     ]
    }
   ],
   "source": [
    "df['fuel']=df['fuel'].replace({'CNG':'Eco','LPG':'Eco'})\n",
    "print(df['fuel'].value_counts())"
   ]
  },
  {
   "cell_type": "code",
   "execution_count": 21,
   "id": "b4929045-929c-4db1-b579-ae77c08b64a0",
   "metadata": {},
   "outputs": [
    {
     "data": {
      "text/plain": [
       "<Axes: xlabel='selling_price', ylabel='fuel'>"
      ]
     },
     "execution_count": 21,
     "metadata": {},
     "output_type": "execute_result"
    },
    {
     "data": {
      "image/png": "[encoded data removed]",
      "text/plain": [
       "<Figure size 640x480 with 1 Axes>"
      ]
     },
     "metadata": {},
     "output_type": "display_data"
    }
   ],
   "source": [
    "seaborn.violinplot(data=df,x=\"selling_price\",y=\"fuel\")"
   ]
  },
  {
   "cell_type": "markdown",
   "id": "aa244e45-6706-4911-93bf-fd1792ccaaac",
   "metadata": {},
   "source": [
    "# km driven"
   ]
  },
  {
   "cell_type": "code",
   "execution_count": 23,
   "id": "2f3c568f-a263-4850-895a-ee436ecb8936",
   "metadata": {},
   "outputs": [
    {
     "data": {
      "image/png": "[encoded data removed]",
      "text/plain": [
       "<Figure size 640x480 with 1 Axes>"
      ]
     },
     "metadata": {},
     "output_type": "display_data"
    }
   ],
   "source": [
    "plt.ticklabel_format(style=\"plain\")\n",
    "plt.scatter(df['km_driven'],df['selling_price'],color=\"r\")\n",
    "plt.xlabel('km_driven')\n",
    "plt.ylabel('selling_price')\n",
    "plt.show()"
   ]
  },
  {
   "cell_type": "code",
   "execution_count": 24,
   "id": "55239583-7622-4576-bf10-ac56aa6b68f4",
   "metadata": {},
   "outputs": [
    {
     "name": "stdout",
     "output_type": "stream",
     "text": [
      "name\n",
      "Ambassador       124000.00\n",
      "Ashok            300000.00\n",
      "Audi            2319432.35\n",
      "BMW             4153813.56\n",
      "Chevrolet        273867.48\n",
      "Daewoo            77000.00\n",
      "Datsun           314599.95\n",
      "Fiat             317195.07\n",
      "Force            887500.00\n",
      "Ford             520873.67\n",
      "Honda            593903.51\n",
      "Hyundai          473511.00\n",
      "Isuzu           1942000.00\n",
      "Jaguar          2915464.79\n",
      "Jeep            2149612.87\n",
      "Kia             1504500.00\n",
      "Land            3608333.33\n",
      "Lexus           5150000.00\n",
      "MG              1783333.33\n",
      "Mahindra         630021.07\n",
      "Maruti           409091.03\n",
      "Mercedes-Benz   2470444.44\n",
      "Mitsubishi       817500.00\n",
      "Nissan           465407.36\n",
      "Opel              68000.00\n",
      "Renault          462618.38\n",
      "Skoda            609721.12\n",
      "Tata             361853.83\n",
      "Toyota          1011920.31\n",
      "Volkswagen       485217.38\n",
      "Volvo           3272014.93\n",
      "Name: selling_price, dtype: float64\n",
      "name\n",
      "Lexus           5150000.00\n",
      "BMW             4153813.56\n",
      "Land            3608333.33\n",
      "Volvo           3272014.93\n",
      "Jaguar          2915464.79\n",
      "Mercedes-Benz   2470444.44\n",
      "Audi            2319432.35\n",
      "Jeep            2149612.87\n",
      "Isuzu           1942000.00\n",
      "MG              1783333.33\n",
      "Kia             1504500.00\n",
      "Toyota          1011920.31\n",
      "Force            887500.00\n",
      "Mitsubishi       817500.00\n",
      "Mahindra         630021.07\n",
      "Skoda            609721.12\n",
      "Honda            593903.51\n",
      "Ford             520873.67\n",
      "Volkswagen       485217.38\n",
      "Hyundai          473511.00\n",
      "Nissan           465407.36\n",
      "Renault          462618.38\n",
      "Maruti           409091.03\n",
      "Tata             361853.83\n",
      "Fiat             317195.07\n",
      "Datsun           314599.95\n",
      "Ashok            300000.00\n",
      "Chevrolet        273867.48\n",
      "Ambassador       124000.00\n",
      "Daewoo            77000.00\n",
      "Opel              68000.00\n",
      "Name: selling_price, dtype: float64\n"
     ]
    }
   ],
   "source": [
    "#year...>same\n",
    "#name...>one hot encoder..>huge categories thats why it not apply ..>sparsity (when we create too much dumy variables)\n",
    "#print(df['name'].value_counts())\n",
    "def abc(x):\n",
    "    b=x.split()[0]\n",
    " \n",
    "    return b\n",
    "df['name']=df['name'].apply(abc)\n",
    "#print(df['name'].value_counts())\n",
    "\n",
    "#groupby...>avg selling price\n",
    "pd.options.display.float_format=\"{:.2f}\".format\n",
    "g=df.groupby('name')\n",
    "m=g['selling_price'].mean()\n",
    "print(m)\n",
    "\n",
    "x=m.sort_values(ascending=False)\n",
    "print(x)"
   ]
  },
  {
   "cell_type": "code",
   "execution_count": 25,
   "id": "08f24f82-69c3-473c-ae1e-07140368b63e",
   "metadata": {},
   "outputs": [
    {
     "name": "stdout",
     "output_type": "stream",
     "text": [
      "name\n",
      "1    7128\n",
      "2     426\n",
      "0     345\n",
      "Name: count, dtype: int64\n"
     ]
    }
   ],
   "source": [
    "def xyz(y):\n",
    "    if y in x.index[:10]:\n",
    "        return 2  #highend cars\n",
    "    elif y in x.index[10:24]:\n",
    "        return 1\n",
    "    else:\n",
    "        return 0\n",
    "df['name']=df['name'].apply(xyz)\n",
    "print(df['name'].value_counts())"
   ]
  },
  {
   "cell_type": "code",
   "execution_count": 26,
   "id": "3c42fc14-b2d4-4f94-8403-e90da40a58e5",
   "metadata": {},
   "outputs": [],
   "source": [
    "#stalistical analysis\n",
    "#feature selection...> we are selecting importment features from the dataset \n",
    "#outlier detection...> we are removing those data which are out of the particular pattern of data "
   ]
  },
  {
   "cell_type": "code",
   "execution_count": 27,
   "id": "31b24a1a-404e-41be-8998-0fb31b8fa068",
   "metadata": {},
   "outputs": [],
   "source": [
    "#segrication\n",
    "#numerical column and category \n",
    "\n",
    "numerical=df[[\"selling_price\",\"year\",\"km_driven\",\"max_power\",\"engine\",\"mileage\"]]\n",
    "category=df[[\"name\",\"fuel\",\"seller_type\",\"transmission\",\"seats\",\"owner\"]]"
   ]
  },
  {
   "cell_type": "code",
   "execution_count": 28,
   "id": "b3a6a5fc-5b6c-4d6e-92dd-aeb7bca99036",
   "metadata": {},
   "outputs": [
    {
     "name": "stderr",
     "output_type": "stream",
     "text": [
      "C:\\Users\\dell4\\AppData\\Local\\Temp\\ipykernel_19760\\3412994203.py:1: SettingWithCopyWarning: \n",
      "A value is trying to be set on a copy of a slice from a DataFrame.\n",
      "Try using .loc[row_indexer,col_indexer] = value instead\n",
      "\n",
      "See the caveats in the documentation: https://pandas.pydata.org/pandas-docs/stable/user_guide/indexing.html#returning-a-view-versus-a-copy\n",
      "  category[\"fuel\"]=category[\"fuel\"].replace({\"Petrol\":0,\"Diesel\":1,\"Eco\":2})\n",
      "C:\\Users\\dell4\\AppData\\Local\\Temp\\ipykernel_19760\\3412994203.py:2: SettingWithCopyWarning: \n",
      "A value is trying to be set on a copy of a slice from a DataFrame.\n",
      "Try using .loc[row_indexer,col_indexer] = value instead\n",
      "\n",
      "See the caveats in the documentation: https://pandas.pydata.org/pandas-docs/stable/user_guide/indexing.html#returning-a-view-versus-a-copy\n",
      "  category['seller_type']=category[\"seller_type\"].replace({\"Individual\":0,\"Dealer\":1,\"Trustmark Dealer\":2})\n",
      "C:\\Users\\dell4\\AppData\\Local\\Temp\\ipykernel_19760\\3412994203.py:3: SettingWithCopyWarning: \n",
      "A value is trying to be set on a copy of a slice from a DataFrame.\n",
      "Try using .loc[row_indexer,col_indexer] = value instead\n",
      "\n",
      "See the caveats in the documentation: https://pandas.pydata.org/pandas-docs/stable/user_guide/indexing.html#returning-a-view-versus-a-copy\n",
      "  category[\"transmission\"]=category[\"transmission\"].replace({\"Manual\":0,\"Automatic\":1})\n",
      "C:\\Users\\dell4\\AppData\\Local\\Temp\\ipykernel_19760\\3412994203.py:4: SettingWithCopyWarning: \n",
      "A value is trying to be set on a copy of a slice from a DataFrame.\n",
      "Try using .loc[row_indexer,col_indexer] = value instead\n",
      "\n",
      "See the caveats in the documentation: https://pandas.pydata.org/pandas-docs/stable/user_guide/indexing.html#returning-a-view-versus-a-copy\n",
      "  category[\"owner\"]=category[\"owner\"].replace({\"First Owner\":0,\"Second Owner\":1,\"Third Owner\":2,\"Fourth & Above Owner\":3})\n"
     ]
    }
   ],
   "source": [
    "category[\"fuel\"]=category[\"fuel\"].replace({\"Petrol\":0,\"Diesel\":1,\"Eco\":2})\n",
    "category['seller_type']=category[\"seller_type\"].replace({\"Individual\":0,\"Dealer\":1,\"Trustmark Dealer\":2})\n",
    "category[\"transmission\"]=category[\"transmission\"].replace({\"Manual\":0,\"Automatic\":1})\n",
    "category[\"owner\"]=category[\"owner\"].replace({\"First Owner\":0,\"Second Owner\":1,\"Third Owner\":2,\"Fourth & Above Owner\":3})"
   ]
  },
  {
   "cell_type": "code",
   "execution_count": 29,
   "id": "f1e29952-a614-4a00-9b3e-0f4aa24ab32f",
   "metadata": {},
   "outputs": [
    {
     "name": "stdout",
     "output_type": "stream",
     "text": [
      "               selling_price  year  km_driven  max_power  engine  mileage\n",
      "selling_price           1.00  0.41      -0.22       0.75    0.46    -0.12\n",
      "year                    0.41  1.00      -0.43       0.23    0.02     0.33\n",
      "km_driven              -0.22 -0.43       1.00      -0.04    0.21    -0.17\n",
      "max_power               0.75  0.23      -0.04       1.00    0.70    -0.37\n",
      "engine                  0.46  0.02       0.21       0.70    1.00    -0.58\n",
      "mileage                -0.12  0.33      -0.17      -0.37   -0.58     1.00\n"
     ]
    }
   ],
   "source": [
    "#pearson corelation test\n",
    "#numeric  numeric\n",
    "print(numerical.corr())\n",
    "# +1...>positively corelated\n",
    "# -1...>negatively corelated"
   ]
  },
  {
   "cell_type": "code",
   "execution_count": 30,
   "id": "57dc94fc-e866-48b9-b024-f832c8c6f2dc",
   "metadata": {},
   "outputs": [
    {
     "data": {
      "text/plain": [
       "<Axes: >"
      ]
     },
     "execution_count": 30,
     "metadata": {},
     "output_type": "execute_result"
    },
    {
     "data": {
      "image/png": "[encoded data removed]",
      "text/plain": [
       "<Figure size 640x480 with 2 Axes>"
      ]
     },
     "metadata": {},
     "output_type": "display_data"
    }
   ],
   "source": [
    "n=numerical.corr()\n",
    "seaborn.heatmap(n)"
   ]
  },
  {
   "cell_type": "markdown",
   "id": "48b868bc-e1db-47ba-b922-c4ac7632c6d1",
   "metadata": {},
   "source": [
    "# ANOVA TEST"
   ]
  },
  {
   "cell_type": "code",
   "execution_count": 32,
   "id": "6ff35397-9b6b-453f-987d-b853dbfc86e0",
   "metadata": {},
   "outputs": [],
   "source": [
    "#anova test\n",
    "#analysis of variance \n",
    "\n",
    "#basic\n",
    "#mean\n",
    "#std deviation\n",
    "#variance\n",
    "\n",
    "#what is data distribution...>it is the pattern of probability of the elements in the data set \n",
    "\n",
    "#rolling 2 dicies\n"
   ]
  },
  {
   "cell_type": "code",
   "execution_count": 33,
   "id": "bee04b02-6e20-4cc7-aa85-12708bd14c22",
   "metadata": {},
   "outputs": [],
   "source": [
    "#Gaussian distribution properties\n",
    "\n",
    "#Many ML algo are made by assuming that data is normally distributed\n",
    "#most of the naturally occuring data belongs to the normal distibution \n",
    "#prediction and analytics can be easily done on normallly distributed data \n",
    "#because the mean=mode=median\n",
    "#data is symmetrical "
   ]
  },
  {
   "cell_type": "code",
   "execution_count": 34,
   "id": "27123847-d91c-44f1-83ba-a79d07ffa911",
   "metadata": {},
   "outputs": [
    {
     "name": "stdout",
     "output_type": "stream",
     "text": [
      "4.153871318424948\n",
      "1.6423762\n"
     ]
    }
   ],
   "source": [
    "#skewness...>a distribution of the symmetry that deviates from the symmetrical bell shape curve\n",
    "#positively skewed..>mode<meadian<mean\n",
    "#negatively skewed..>mean<median<mode\n",
    "#skewness formula s=3(mean-median)/6\n",
    "print(df[\"selling_price\"].skew())\n",
    "print(df[\"max_power\"].skew())"
   ]
  },
  {
   "cell_type": "code",
   "execution_count": 35,
   "id": "b27364d9-af37-4ccf-99fe-b0d172f66368",
   "metadata": {},
   "outputs": [],
   "source": [
    "#kurtosis\n",
    "#it is used to find f score that is used to check if there is any relation between the category and the numerical column\n",
    "#hypothesis testing\n",
    "#null hypothesis(H0)..>variance of all the column is same\n",
    "#alternative hypothesis (H1)...>variance of all the column is not same"
   ]
  },
  {
   "cell_type": "code",
   "execution_count": 36,
   "id": "99de6f98-3a87-45fd-8248-0cb41eec0d40",
   "metadata": {},
   "outputs": [],
   "source": [
    "#anova....>f score\n",
    "#f score...>we decide whether we want to accept the null hypothesis or not\n",
    "#  f=(ssb/DOFb)/(ssw/DOFW)\n",
    "#ssw..>within the sum of squares\n",
    "#ssw=(x-g)^2\n",
    "#dof..>degree of freedom\n",
    "#ssb..>beyween the sum of squares\n",
    "# ssb=(X-Xg)^2"
   ]
  },
  {
   "cell_type": "code",
   "execution_count": 37,
   "id": "9e0228f2-a32a-4d17-ad99-c08c3eacd88e",
   "metadata": {},
   "outputs": [
    {
     "name": "stdout",
     "output_type": "stream",
     "text": [
      "[[1. 0. 0.]\n",
      " [1. 0. 0.]\n",
      " [1. 0. 0.]\n",
      " ...\n",
      " [1. 0. 0.]\n",
      " [1. 0. 0.]\n",
      " [1. 0. 0.]]\n",
      "[0 2 3]\n",
      "Index(['name', 'fuel', 'seller_type', 'transmission', 'seats', 'owner'], dtype='object')\n",
      "[11.6314993   3.11258891  6.7549591  12.03276301  2.66180735  3.72507073]\n"
     ]
    }
   ],
   "source": [
    "from sklearn.feature_selection import f_classif,SelectKBest\n",
    "select=SelectKBest(f_classif,k=3)\n",
    "columns=select.fit_transform(category,numerical[\"selling_price\"])\n",
    "print(columns)\n",
    "selected=select.get_support(indices=True)\n",
    "print(selected)\n",
    "print(category.columns)\n",
    "print(select.scores_)\n",
    "#f..>classify..>performing anova test...>calculating the f score\n",
    "#selectkBest..>finding out the top 3 columns with best f score\n",
    "#if the f score value is greater than critical value then reject the null hypothesis \n",
    "#if the f score value is smaller than critical value then accept the null hypothesis"
   ]
  },
  {
   "cell_type": "code",
   "execution_count": 38,
   "id": "b7ab7098-e976-4ecc-9461-f58ccbdb54ba",
   "metadata": {},
   "outputs": [],
   "source": [
    "#outlier detection\n",
    "#what is outlier\n",
    "#data points ..>are out of pattern from the whole data\n",
    "#why are we removing outliers?\n",
    "#ml...>r2 score ..>remove the outlier\n",
    "#case1 ..>when the data is normally distributed\n",
    "#case2..> when the data is pure random (unknown distribution)\n",
    "\n",
    "#case1..>normally distributed...>\n",
    "#z score\n",
    "#for example ..>data ...>mean =2 std dev=10\n",
    "# -2 10 +2...>\n",
    "#intege    between  8  and  12  fall under  first  std dev\n",
    "#integers  between  6  and  14  fall under  second std dev\n",
    "# integers between  4  and  16  fall under  third  std dev\n",
    "\n",
    "#acc. to gaussian\n",
    "#data 68%...>falls under first std dev \n",
    "# 95% falls under second std dev\n",
    "#99.7% falls under "
   ]
  },
  {
   "cell_type": "code",
   "execution_count": 39,
   "id": "bf26711b-c78c-4d8c-aa8f-b6f43f0eecad",
   "metadata": {},
   "outputs": [
    {
     "data": {
      "image/png": "[encoded data removed]",
      "text/plain": [
       "<Figure size 640x480 with 1 Axes>"
      ]
     },
     "metadata": {},
     "output_type": "display_data"
    },
    {
     "data": {
      "image/png": "[encoded data removed]",
      "text/plain": [
       "<Figure size 640x480 with 1 Axes>"
      ]
     },
     "metadata": {},
     "output_type": "display_data"
    },
    {
     "data": {
      "image/png": "[encoded data removed]",
      "text/plain": [
       "<Figure size 640x480 with 1 Axes>"
      ]
     },
     "metadata": {},
     "output_type": "display_data"
    },
    {
     "data": {
      "image/png": "[encoded data removed]",
      "text/plain": [
       "<Figure size 640x480 with 1 Axes>"
      ]
     },
     "metadata": {},
     "output_type": "display_data"
    },
    {
     "data": {
      "image/png": "[encoded data removed]",
      "text/plain": [
       "<Figure size 640x480 with 1 Axes>"
      ]
     },
     "metadata": {},
     "output_type": "display_data"
    },
    {
     "data": {
      "image/png": "[encoded data removed]",
      "text/plain": [
       "<Figure size 640x480 with 1 Axes>"
      ]
     },
     "metadata": {},
     "output_type": "display_data"
    }
   ],
   "source": [
    "for column in numerical.columns:\n",
    "    plt.hist(numerical[column])\n",
    "    plt.title(column)\n",
    "    plt.show()"
   ]
  },
  {
   "cell_type": "code",
   "execution_count": 40,
   "id": "edce59de-7262-4c74-8171-aa4e7c7f3a0b",
   "metadata": {},
   "outputs": [
    {
     "name": "stdout",
     "output_type": "stream",
     "text": [
      "4.036935329437256\n",
      "19.421303\n"
     ]
    }
   ],
   "source": [
    "#when data normal distribution\n",
    "#mileage\n",
    "print(df[\"mileage\"].std())\n",
    "print(df[\"mileage\"].mean())\n",
    "# -4 19 +4\n",
    "#mileage...>40"
   ]
  },
  {
   "cell_type": "code",
   "execution_count": 41,
   "id": "42222e99-e7c4-4b78-a4e9-4c48dcf72bbb",
   "metadata": {},
   "outputs": [],
   "source": [
    "#z score...>returns the std dev of each data point wrt mean\n",
    "#z score less than  -3 greater than +3 ...>outlier\n",
    "#z_score =(x-mean)/std\n",
    "#km_driven\n",
    "import numpy as np\n",
    "column=np.array([4,6,7,8,2])\n",
    "z_score=np.array([-2,4,2,-4])"
   ]
  },
  {
   "cell_type": "code",
   "execution_count": 42,
   "id": "935ff171-0a52-4be0-b623-f15f175da69c",
   "metadata": {},
   "outputs": [
    {
     "name": "stdout",
     "output_type": "stream",
     "text": [
      "0       145500\n",
      "1       120000\n",
      "2       140000\n",
      "3       127000\n",
      "4       120000\n",
      "         ...  \n",
      "7899    110000\n",
      "7900    119000\n",
      "7901    120000\n",
      "7902     25000\n",
      "7903     25000\n",
      "Name: km_driven, Length: 7899, dtype: int64\n"
     ]
    }
   ],
   "source": [
    "df1=df['km_driven']\n",
    "print(df1)"
   ]
  },
  {
   "cell_type": "code",
   "execution_count": 43,
   "id": "524ba75f-1ee4-44ca-9b57-6bcd9b38c54c",
   "metadata": {},
   "outputs": [
    {
     "name": "stdout",
     "output_type": "stream",
     "text": [
      "240000\n",
      "265000\n",
      "250000\n",
      "300000\n",
      "300000\n",
      "334000\n",
      "1500000\n",
      "300000\n",
      "375000\n",
      "300000\n",
      "255000\n",
      "380000\n",
      "270000\n",
      "300000\n",
      "248000\n",
      "260000\n",
      "240000\n",
      "300000\n",
      "300000\n",
      "260000\n",
      "2360457\n",
      "577414\n",
      "250000\n",
      "250000\n",
      "500000\n",
      "330000\n",
      "291000\n",
      "250000\n",
      "265000\n",
      "246000\n",
      "240000\n",
      "305000\n",
      "264000\n",
      "298000\n",
      "270000\n",
      "291977\n",
      "248200\n",
      "242000\n",
      "300000\n",
      "240000\n",
      "290000\n",
      "270000\n",
      "475000\n",
      "440000\n",
      "285000\n",
      "250000\n",
      "239451\n",
      "426000\n",
      "250000\n",
      "330000\n",
      "370000\n",
      "320000\n",
      "250000\n",
      "250000\n",
      "500000\n",
      "250000\n",
      "250000\n",
      "271000\n",
      "260000\n",
      "248119\n",
      "376412\n",
      "250000\n",
      "280000\n",
      "250000\n",
      "265000\n",
      "250000\n",
      "250000\n",
      "250000\n",
      "300000\n",
      "250000\n"
     ]
    }
   ],
   "source": [
    "dfm=numerical['km_driven'].mean()\n",
    "dfs=numerical['km_driven'].std()\n",
    "for x in numerical ['km_driven']:\n",
    "    z_score=(x-dfm)/dfs\n",
    "   # print(z_score)\n",
    "    if z_score>3 or z_score<-3:\n",
    "        print(x)"
   ]
  },
  {
   "cell_type": "markdown",
   "id": "11deb06b-c694-4cdb-b0e4-b857f076d899",
   "metadata": {},
   "source": [
    "# case2"
   ]
  },
  {
   "cell_type": "code",
   "execution_count": 45,
   "id": "3b5d3921-47ec-41c9-876f-2ba7b0028021",
   "metadata": {},
   "outputs": [],
   "source": [
    "#when data belongs to pure random (unknown)...>engine\n",
    "#algo....>DBSCAN...>density based spatial clustring of application with noise\n",
    "#data....>groups the data \n",
    "#DBSCAN..>segment..>we can also detect outliers"
   ]
  },
  {
   "cell_type": "code",
   "execution_count": 46,
   "id": "ead7ea35-ec8f-4952-8abd-aa84ced677f7",
   "metadata": {},
   "outputs": [],
   "source": [
    "#epsilon...>radius of the data point \n",
    "#min_samples...>min data points required for making a dense region\n",
    "\n",
    "#there aree three types pf points in the DBSCAN \n",
    "#core point ..>it contains atleast the number of min_samples\n",
    "#border points ...>contain point less than the min samples\n",
    "#noise points..> contains no extra data in its radius "
   ]
  },
  {
   "cell_type": "code",
   "execution_count": 47,
   "id": "5b5168c0-711b-4f4c-8fa3-5192c6140b2c",
   "metadata": {},
   "outputs": [
    {
     "name": "stdout",
     "output_type": "stream",
     "text": [
      "[[0.20939597 0.04212648]\n",
      " [0.29328859 0.0341024 ]\n",
      " [0.29295302 0.01283861]\n",
      " ...\n",
      " [0.20939597 0.03530601]\n",
      " [0.2590604  0.02607833]\n",
      " [0.2590604  0.02607833]]\n"
     ]
    }
   ],
   "source": [
    "#engine DBSCAN \n",
    "data=numerical[['engine','selling_price']]\n",
    "#scale..>distance related algo..>MinMaxScaling\n",
    "#0-1\n",
    "from sklearn.preprocessing import MinMaxScaler\n",
    "mn=MinMaxScaler()\n",
    "data=mn.fit_transform(data)\n",
    "print(data)"
   ]
  },
  {
   "cell_type": "code",
   "execution_count": 48,
   "id": "da7ab342-8d09-4b40-9fa9-e1fd43a939ca",
   "metadata": {},
   "outputs": [
    {
     "name": "stdout",
     "output_type": "stream",
     "text": [
      "[0 0 0 ... 0 0 0]\n",
      "[-1  0  1  2  3  4  5]\n",
      "(array([-1,  0,  1,  2,  3,  4,  5], dtype=int64), array([  15, 6205, 1555,   34,   10,   68,   12], dtype=int64))\n"
     ]
    }
   ],
   "source": [
    "import numpy as np\n",
    "from sklearn.cluster import DBSCAN\n",
    "dbscan=DBSCAN(eps=0.06,min_samples=10)\n",
    "dbscan.fit(data)\n",
    "labels=dbscan.labels_\n",
    "print(labels)\n",
    "print(np.unique(labels))\n",
    "print(np.unique(labels,return_counts=True))"
   ]
  },
  {
   "cell_type": "code",
   "execution_count": 49,
   "id": "ab9d7878-5f0e-4044-947f-8cef4b22eb41",
   "metadata": {},
   "outputs": [],
   "source": [
    "#samples whose circle contains similar number of points are lablled as one category\n",
    "#those samples whose circles dose not have any data are lablled as -1 (outliers)"
   ]
  },
  {
   "cell_type": "code",
   "execution_count": 50,
   "id": "d42fc2c1-f509-4cb6-8b4c-e22078efe71a",
   "metadata": {},
   "outputs": [
    {
     "data": {
      "image/png": "[encoded data removed]",
      "text/plain": [
       "<Figure size 640x480 with 1 Axes>"
      ]
     },
     "metadata": {},
     "output_type": "display_data"
    }
   ],
   "source": [
    "l1=[2,3,4,1]\n",
    "l2=[23,45,78,12]\n",
    "color=('r','g','y','b')\n",
    "plt.scatter(l1,l2,c=color)\n",
    "plt.show()"
   ]
  },
  {
   "cell_type": "code",
   "execution_count": 51,
   "id": "a4cd04e7-13e8-4a9a-82c6-b0467355271f",
   "metadata": {},
   "outputs": [
    {
     "data": {
      "image/png": "[encoded data removed]",
      "text/plain": [
       "<Figure size 640x480 with 1 Axes>"
      ]
     },
     "metadata": {},
     "output_type": "display_data"
    }
   ],
   "source": [
    "l=np.where(labels>-1,0,-1)\n",
    "plt.scatter(df['engine'],df['selling_price'],c=l)\n",
    "plt.show()\n",
    "#visullay see the data points which are outliers "
   ]
  },
  {
   "cell_type": "code",
   "execution_count": 52,
   "id": "c73d4f7e-d2b8-404b-b255-6de38771dce1",
   "metadata": {},
   "outputs": [
    {
     "name": "stdout",
     "output_type": "stream",
     "text": [
      "[0.        0.0002006 0.0002006 ... 0.0002006 0.        0.       ]\n"
     ]
    },
    {
     "data": {
      "image/png": "[encoded data removed]",
      "text/plain": [
       "<Figure size 640x480 with 1 Axes>"
      ]
     },
     "metadata": {},
     "output_type": "display_data"
    }
   ],
   "source": [
    "#how to decide the value of epsilon and min_samples\n",
    "#K-distance graph\n",
    "#epsilon value is described based on the average distance of each data point to its nearest neighbour\n",
    "#making a K distance graph\n",
    "#scale the data\n",
    "#find the nearest neighbour of each data point\n",
    "\n",
    "from sklearn.neighbors import NearestNeighbors\n",
    "nn=NearestNeighbors(n_neighbors=10)\n",
    "nn.fit(data)\n",
    "distance,index=nn.kneighbors(data)\n",
    "#print(distance)\n",
    "distance=distance[:,1]\n",
    "print(distance)\n",
    "distance=np.sort(distance,axis=0)\n",
    "plt.plot(distance)\n",
    "plt.title('k_distance graph')\n",
    "plt.show()"
   ]
  },
  {
   "cell_type": "code",
   "execution_count": 53,
   "id": "22f4914e-5a6d-4efc-8adc-5fa6bd0bfb54",
   "metadata": {},
   "outputs": [
    {
     "name": "stdout",
     "output_type": "stream",
     "text": [
      "      selling_price  year  km_driven  max_power  engine  mileage\n",
      "0            450000  2014     145500      74.00 1248.00    23.40\n",
      "1            370000  2014     120000     103.52 1498.00    21.14\n",
      "2            158000  2006     140000      78.00 1497.00    17.70\n",
      "3            225000  2010     127000      90.00 1396.00    23.00\n",
      "4            130000  2007     120000      88.20 1298.00    16.10\n",
      "...             ...   ...        ...        ...     ...      ...\n",
      "7894         320000  2013     110000      82.85 1197.00    18.50\n",
      "7895         135000  2007     119000     110.00 1493.00    16.80\n",
      "7896         382000  2009     120000      73.90 1248.00    19.30\n",
      "7897         290000  2013      25000      70.00 1396.00    23.57\n",
      "7898         290000  2013      25000      70.00 1396.00    23.57\n",
      "\n",
      "[7899 rows x 6 columns]\n"
     ]
    }
   ],
   "source": [
    "#remove outliers from the numerical ['engine']\n",
    "#f=labels!=-1\n",
    "#print(f)\n",
    "#numerical=numerical[f]\n",
    "numerical=numerical.reset_index(drop=True)\n",
    "print(numerical)"
   ]
  },
  {
   "cell_type": "code",
   "execution_count": 54,
   "id": "81bb3da2-9222-4b1f-8805-bf3ed34ed926",
   "metadata": {},
   "outputs": [
    {
     "name": "stdout",
     "output_type": "stream",
     "text": [
      "[ True  True  True ...  True  True  True]\n",
      "      selling_price  year  km_driven  max_power  engine  mileage\n",
      "0            450000  2014     145500      74.00 1248.00    23.40\n",
      "1            370000  2014     120000     103.52 1498.00    21.14\n",
      "2            158000  2006     140000      78.00 1497.00    17.70\n",
      "3            225000  2010     127000      90.00 1396.00    23.00\n",
      "4            130000  2007     120000      88.20 1298.00    16.10\n",
      "...             ...   ...        ...        ...     ...      ...\n",
      "7879         320000  2013     110000      82.85 1197.00    18.50\n",
      "7880         135000  2007     119000     110.00 1493.00    16.80\n",
      "7881         382000  2009     120000      73.90 1248.00    19.30\n",
      "7882         290000  2013      25000      70.00 1396.00    23.57\n",
      "7883         290000  2013      25000      70.00 1396.00    23.57\n",
      "\n",
      "[7884 rows x 6 columns]\n"
     ]
    }
   ],
   "source": [
    "#remove outliers from the numerical ['engine']\n",
    "f=labels!=-1\n",
    "print(f)\n",
    "numerical=numerical[f]\n",
    "numerical=numerical.reset_index(drop=True)\n",
    "print(numerical)"
   ]
  },
  {
   "cell_type": "code",
   "execution_count": 55,
   "id": "f9303ac7-ca5a-4eee-8d07-f78717bbe8c6",
   "metadata": {},
   "outputs": [
    {
     "name": "stdout",
     "output_type": "stream",
     "text": [
      "      name  fuel  seller_type  transmission  seats  owner\n",
      "0        1     1            0             0   5.00      0\n",
      "1        1     1            0             0   5.00      1\n",
      "2        1     0            0             0   5.00      2\n",
      "3        1     1            0             0   5.00      0\n",
      "4        1     0            0             0   5.00      0\n",
      "...    ...   ...          ...           ...    ...    ...\n",
      "7899     1     0            0             0   5.00      0\n",
      "7900     1     1            0             0   5.00      3\n",
      "7901     1     1            0             0   5.00      0\n",
      "7902     1     1            0             0   5.00      0\n",
      "7903     1     1            0             0   5.00      0\n",
      "\n",
      "[7899 rows x 6 columns]\n"
     ]
    }
   ],
   "source": [
    "print(category)"
   ]
  },
  {
   "cell_type": "code",
   "execution_count": 56,
   "id": "11a726f2-8c77-4541-8143-fa4765c2d644",
   "metadata": {},
   "outputs": [
    {
     "name": "stdout",
     "output_type": "stream",
     "text": [
      "      name  fuel  seller_type  transmission  seats  owner\n",
      "0        1     1            0             0   5.00      0\n",
      "1        1     1            0             0   5.00      1\n",
      "2        1     0            0             0   5.00      2\n",
      "3        1     1            0             0   5.00      0\n",
      "4        1     0            0             0   5.00      0\n",
      "...    ...   ...          ...           ...    ...    ...\n",
      "7879     1     0            0             0   5.00      0\n",
      "7880     1     1            0             0   5.00      3\n",
      "7881     1     1            0             0   5.00      0\n",
      "7882     1     1            0             0   5.00      0\n",
      "7883     1     1            0             0   5.00      0\n",
      "\n",
      "[7884 rows x 6 columns]\n"
     ]
    }
   ],
   "source": [
    "#remove outliers from the numerical ['engine']\n",
    "f=labels!=-1\n",
    "#print(f)\n",
    "category=category[f]\n",
    "category=category.reset_index(drop=True)\n",
    "print(category)"
   ]
  },
  {
   "cell_type": "code",
   "execution_count": 57,
   "id": "661b35f4-5362-4e01-ba34-9d23ac54d6e8",
   "metadata": {},
   "outputs": [
    {
     "name": "stdout",
     "output_type": "stream",
     "text": [
      "      selling_price  year  km_driven  max_power  engine  mileage\n",
      "0            450000  2014     145500      74.00 1248.00    23.40\n",
      "1            370000  2014     120000     103.52 1498.00    21.14\n",
      "2            158000  2006     140000      78.00 1497.00    17.70\n",
      "3            225000  2010     127000      90.00 1396.00    23.00\n",
      "4            130000  2007     120000      88.20 1298.00    16.10\n",
      "...             ...   ...        ...        ...     ...      ...\n",
      "7879         320000  2013     110000      82.85 1197.00    18.50\n",
      "7880         135000  2007     119000     110.00 1493.00    16.80\n",
      "7881         382000  2009     120000      73.90 1248.00    19.30\n",
      "7882         290000  2013      25000      70.00 1396.00    23.57\n",
      "7883         290000  2013      25000      70.00 1396.00    23.57\n",
      "\n",
      "[7708 rows x 6 columns]\n"
     ]
    }
   ],
   "source": [
    "def detect_outlier(column):\n",
    "     std=column.std()\n",
    "     mean=column.mean()\n",
    "     z_score=(column-mean)/std\n",
    "     return column [(z_score>3) | (z_score<-3)]\n",
    "out=detect_outlier(numerical[\"km_driven\"])\n",
    "f=numerical[\"km_driven\"].isin(out)\n",
    "numerical=numerical[~f]\n",
    "\n",
    "   \n",
    "out1=detect_outlier(numerical[\"mileage\"])\n",
    "f=numerical[\"mileage\"].isin(out1)\n",
    "numerical=numerical[~f]\n",
    "\n",
    "\n",
    "out2=detect_outlier(numerical[\"max_power\"])\n",
    "f=numerical[\"max_power\"].isin(out2)\n",
    "numerical=numerical[~f]\n",
    "\n",
    "\n",
    "#print(out2)\n",
    "#print(numerical[\"km_driven\"])\n",
    "print(numerical)"
   ]
  },
  {
   "cell_type": "code",
   "execution_count": 58,
   "id": "959fd900-8f8f-45dc-aef9-a85fa912ebc4",
   "metadata": {},
   "outputs": [
    {
     "name": "stdout",
     "output_type": "stream",
     "text": [
      "      name  fuel  seller_type  transmission  seats  owner\n",
      "0        1     1            0             0   5.00      0\n",
      "1        1     1            0             0   5.00      1\n",
      "2        1     0            0             0   5.00      2\n",
      "3        1     1            0             0   5.00      0\n",
      "4        1     0            0             0   5.00      0\n",
      "...    ...   ...          ...           ...    ...    ...\n",
      "7879     1     0            0             0   5.00      0\n",
      "7880     1     1            0             0   5.00      3\n",
      "7881     1     1            0             0   5.00      0\n",
      "7882     1     1            0             0   5.00      0\n",
      "7883     1     1            0             0   5.00      0\n",
      "\n",
      "[7884 rows x 6 columns]\n"
     ]
    }
   ],
   "source": [
    "print(category)"
   ]
  },
  {
   "cell_type": "code",
   "execution_count": 59,
   "id": "1717aaee-5f59-4b0b-9ea5-e990b0d17ab0",
   "metadata": {},
   "outputs": [],
   "source": [
    "numerical=numerical.reset_index(drop=True)\n",
    "category=category.reset_index(drop=True)"
   ]
  },
  {
   "cell_type": "code",
   "execution_count": 60,
   "id": "bf764071-bab5-4855-acfd-411eea240e34",
   "metadata": {},
   "outputs": [
    {
     "data": {
      "text/html": [
       "<div>\n",
       "<style scoped>\n",
       "    .dataframe tbody tr th:only-of-type {\n",
       "        vertical-align: middle;\n",
       "    }\n",
       "\n",
       "    .dataframe tbody tr th {\n",
       "        vertical-align: top;\n",
       "    }\n",
       "\n",
       "    .dataframe thead th {\n",
       "        text-align: right;\n",
       "    }\n",
       "</style>\n",
       "<table border=\"1\" class=\"dataframe\">\n",
       "  <thead>\n",
       "    <tr style=\"text-align: right;\">\n",
       "      <th></th>\n",
       "      <th>selling_price</th>\n",
       "      <th>year</th>\n",
       "      <th>km_driven</th>\n",
       "      <th>max_power</th>\n",
       "      <th>engine</th>\n",
       "      <th>mileage</th>\n",
       "    </tr>\n",
       "  </thead>\n",
       "  <tbody>\n",
       "    <tr>\n",
       "      <th>0</th>\n",
       "      <td>450000</td>\n",
       "      <td>2014</td>\n",
       "      <td>145500</td>\n",
       "      <td>74.00</td>\n",
       "      <td>1248.00</td>\n",
       "      <td>23.40</td>\n",
       "    </tr>\n",
       "    <tr>\n",
       "      <th>1</th>\n",
       "      <td>370000</td>\n",
       "      <td>2014</td>\n",
       "      <td>120000</td>\n",
       "      <td>103.52</td>\n",
       "      <td>1498.00</td>\n",
       "      <td>21.14</td>\n",
       "    </tr>\n",
       "    <tr>\n",
       "      <th>2</th>\n",
       "      <td>158000</td>\n",
       "      <td>2006</td>\n",
       "      <td>140000</td>\n",
       "      <td>78.00</td>\n",
       "      <td>1497.00</td>\n",
       "      <td>17.70</td>\n",
       "    </tr>\n",
       "    <tr>\n",
       "      <th>3</th>\n",
       "      <td>225000</td>\n",
       "      <td>2010</td>\n",
       "      <td>127000</td>\n",
       "      <td>90.00</td>\n",
       "      <td>1396.00</td>\n",
       "      <td>23.00</td>\n",
       "    </tr>\n",
       "    <tr>\n",
       "      <th>4</th>\n",
       "      <td>130000</td>\n",
       "      <td>2007</td>\n",
       "      <td>120000</td>\n",
       "      <td>88.20</td>\n",
       "      <td>1298.00</td>\n",
       "      <td>16.10</td>\n",
       "    </tr>\n",
       "    <tr>\n",
       "      <th>...</th>\n",
       "      <td>...</td>\n",
       "      <td>...</td>\n",
       "      <td>...</td>\n",
       "      <td>...</td>\n",
       "      <td>...</td>\n",
       "      <td>...</td>\n",
       "    </tr>\n",
       "    <tr>\n",
       "      <th>7703</th>\n",
       "      <td>320000</td>\n",
       "      <td>2013</td>\n",
       "      <td>110000</td>\n",
       "      <td>82.85</td>\n",
       "      <td>1197.00</td>\n",
       "      <td>18.50</td>\n",
       "    </tr>\n",
       "    <tr>\n",
       "      <th>7704</th>\n",
       "      <td>135000</td>\n",
       "      <td>2007</td>\n",
       "      <td>119000</td>\n",
       "      <td>110.00</td>\n",
       "      <td>1493.00</td>\n",
       "      <td>16.80</td>\n",
       "    </tr>\n",
       "    <tr>\n",
       "      <th>7705</th>\n",
       "      <td>382000</td>\n",
       "      <td>2009</td>\n",
       "      <td>120000</td>\n",
       "      <td>73.90</td>\n",
       "      <td>1248.00</td>\n",
       "      <td>19.30</td>\n",
       "    </tr>\n",
       "    <tr>\n",
       "      <th>7706</th>\n",
       "      <td>290000</td>\n",
       "      <td>2013</td>\n",
       "      <td>25000</td>\n",
       "      <td>70.00</td>\n",
       "      <td>1396.00</td>\n",
       "      <td>23.57</td>\n",
       "    </tr>\n",
       "    <tr>\n",
       "      <th>7707</th>\n",
       "      <td>290000</td>\n",
       "      <td>2013</td>\n",
       "      <td>25000</td>\n",
       "      <td>70.00</td>\n",
       "      <td>1396.00</td>\n",
       "      <td>23.57</td>\n",
       "    </tr>\n",
       "  </tbody>\n",
       "</table>\n",
       "<p>7708 rows × 6 columns</p>\n",
       "</div>"
      ],
      "text/plain": [
       "      selling_price  year  km_driven  max_power  engine  mileage\n",
       "0            450000  2014     145500      74.00 1248.00    23.40\n",
       "1            370000  2014     120000     103.52 1498.00    21.14\n",
       "2            158000  2006     140000      78.00 1497.00    17.70\n",
       "3            225000  2010     127000      90.00 1396.00    23.00\n",
       "4            130000  2007     120000      88.20 1298.00    16.10\n",
       "...             ...   ...        ...        ...     ...      ...\n",
       "7703         320000  2013     110000      82.85 1197.00    18.50\n",
       "7704         135000  2007     119000     110.00 1493.00    16.80\n",
       "7705         382000  2009     120000      73.90 1248.00    19.30\n",
       "7706         290000  2013      25000      70.00 1396.00    23.57\n",
       "7707         290000  2013      25000      70.00 1396.00    23.57\n",
       "\n",
       "[7708 rows x 6 columns]"
      ]
     },
     "execution_count": 60,
     "metadata": {},
     "output_type": "execute_result"
    }
   ],
   "source": [
    "numerical"
   ]
  },
  {
   "cell_type": "code",
   "execution_count": 61,
   "id": "dfa0093e-8b27-49cc-b3a0-794f315e39cc",
   "metadata": {},
   "outputs": [
    {
     "data": {
      "text/html": [
       "<div>\n",
       "<style scoped>\n",
       "    .dataframe tbody tr th:only-of-type {\n",
       "        vertical-align: middle;\n",
       "    }\n",
       "\n",
       "    .dataframe tbody tr th {\n",
       "        vertical-align: top;\n",
       "    }\n",
       "\n",
       "    .dataframe thead th {\n",
       "        text-align: right;\n",
       "    }\n",
       "</style>\n",
       "<table border=\"1\" class=\"dataframe\">\n",
       "  <thead>\n",
       "    <tr style=\"text-align: right;\">\n",
       "      <th></th>\n",
       "      <th>name</th>\n",
       "      <th>fuel</th>\n",
       "      <th>seller_type</th>\n",
       "      <th>transmission</th>\n",
       "      <th>seats</th>\n",
       "      <th>owner</th>\n",
       "    </tr>\n",
       "  </thead>\n",
       "  <tbody>\n",
       "    <tr>\n",
       "      <th>0</th>\n",
       "      <td>1</td>\n",
       "      <td>1</td>\n",
       "      <td>0</td>\n",
       "      <td>0</td>\n",
       "      <td>5.00</td>\n",
       "      <td>0</td>\n",
       "    </tr>\n",
       "    <tr>\n",
       "      <th>1</th>\n",
       "      <td>1</td>\n",
       "      <td>1</td>\n",
       "      <td>0</td>\n",
       "      <td>0</td>\n",
       "      <td>5.00</td>\n",
       "      <td>1</td>\n",
       "    </tr>\n",
       "    <tr>\n",
       "      <th>2</th>\n",
       "      <td>1</td>\n",
       "      <td>0</td>\n",
       "      <td>0</td>\n",
       "      <td>0</td>\n",
       "      <td>5.00</td>\n",
       "      <td>2</td>\n",
       "    </tr>\n",
       "    <tr>\n",
       "      <th>3</th>\n",
       "      <td>1</td>\n",
       "      <td>1</td>\n",
       "      <td>0</td>\n",
       "      <td>0</td>\n",
       "      <td>5.00</td>\n",
       "      <td>0</td>\n",
       "    </tr>\n",
       "    <tr>\n",
       "      <th>4</th>\n",
       "      <td>1</td>\n",
       "      <td>0</td>\n",
       "      <td>0</td>\n",
       "      <td>0</td>\n",
       "      <td>5.00</td>\n",
       "      <td>0</td>\n",
       "    </tr>\n",
       "    <tr>\n",
       "      <th>...</th>\n",
       "      <td>...</td>\n",
       "      <td>...</td>\n",
       "      <td>...</td>\n",
       "      <td>...</td>\n",
       "      <td>...</td>\n",
       "      <td>...</td>\n",
       "    </tr>\n",
       "    <tr>\n",
       "      <th>7879</th>\n",
       "      <td>1</td>\n",
       "      <td>0</td>\n",
       "      <td>0</td>\n",
       "      <td>0</td>\n",
       "      <td>5.00</td>\n",
       "      <td>0</td>\n",
       "    </tr>\n",
       "    <tr>\n",
       "      <th>7880</th>\n",
       "      <td>1</td>\n",
       "      <td>1</td>\n",
       "      <td>0</td>\n",
       "      <td>0</td>\n",
       "      <td>5.00</td>\n",
       "      <td>3</td>\n",
       "    </tr>\n",
       "    <tr>\n",
       "      <th>7881</th>\n",
       "      <td>1</td>\n",
       "      <td>1</td>\n",
       "      <td>0</td>\n",
       "      <td>0</td>\n",
       "      <td>5.00</td>\n",
       "      <td>0</td>\n",
       "    </tr>\n",
       "    <tr>\n",
       "      <th>7882</th>\n",
       "      <td>1</td>\n",
       "      <td>1</td>\n",
       "      <td>0</td>\n",
       "      <td>0</td>\n",
       "      <td>5.00</td>\n",
       "      <td>0</td>\n",
       "    </tr>\n",
       "    <tr>\n",
       "      <th>7883</th>\n",
       "      <td>1</td>\n",
       "      <td>1</td>\n",
       "      <td>0</td>\n",
       "      <td>0</td>\n",
       "      <td>5.00</td>\n",
       "      <td>0</td>\n",
       "    </tr>\n",
       "  </tbody>\n",
       "</table>\n",
       "<p>7884 rows × 6 columns</p>\n",
       "</div>"
      ],
      "text/plain": [
       "      name  fuel  seller_type  transmission  seats  owner\n",
       "0        1     1            0             0   5.00      0\n",
       "1        1     1            0             0   5.00      1\n",
       "2        1     0            0             0   5.00      2\n",
       "3        1     1            0             0   5.00      0\n",
       "4        1     0            0             0   5.00      0\n",
       "...    ...   ...          ...           ...    ...    ...\n",
       "7879     1     0            0             0   5.00      0\n",
       "7880     1     1            0             0   5.00      3\n",
       "7881     1     1            0             0   5.00      0\n",
       "7882     1     1            0             0   5.00      0\n",
       "7883     1     1            0             0   5.00      0\n",
       "\n",
       "[7884 rows x 6 columns]"
      ]
     },
     "execution_count": 61,
     "metadata": {},
     "output_type": "execute_result"
    }
   ],
   "source": [
    "category"
   ]
  },
  {
   "cell_type": "code",
   "execution_count": 62,
   "id": "d912e524-1efa-487a-9fbd-5e578aac7956",
   "metadata": {},
   "outputs": [
    {
     "data": {
      "text/html": [
       "<div>\n",
       "<style scoped>\n",
       "    .dataframe tbody tr th:only-of-type {\n",
       "        vertical-align: middle;\n",
       "    }\n",
       "\n",
       "    .dataframe tbody tr th {\n",
       "        vertical-align: top;\n",
       "    }\n",
       "\n",
       "    .dataframe thead th {\n",
       "        text-align: right;\n",
       "    }\n",
       "</style>\n",
       "<table border=\"1\" class=\"dataframe\">\n",
       "  <thead>\n",
       "    <tr style=\"text-align: right;\">\n",
       "      <th></th>\n",
       "      <th>selling_price</th>\n",
       "      <th>year</th>\n",
       "      <th>km_driven</th>\n",
       "      <th>max_power</th>\n",
       "      <th>engine</th>\n",
       "      <th>mileage</th>\n",
       "      <th>name</th>\n",
       "      <th>fuel</th>\n",
       "      <th>seller_type</th>\n",
       "      <th>transmission</th>\n",
       "      <th>seats</th>\n",
       "      <th>owner</th>\n",
       "    </tr>\n",
       "  </thead>\n",
       "  <tbody>\n",
       "    <tr>\n",
       "      <th>0</th>\n",
       "      <td>450000.00</td>\n",
       "      <td>2014.00</td>\n",
       "      <td>145500.00</td>\n",
       "      <td>74.00</td>\n",
       "      <td>1248.00</td>\n",
       "      <td>23.40</td>\n",
       "      <td>1</td>\n",
       "      <td>1</td>\n",
       "      <td>0</td>\n",
       "      <td>0</td>\n",
       "      <td>5.00</td>\n",
       "      <td>0</td>\n",
       "    </tr>\n",
       "    <tr>\n",
       "      <th>1</th>\n",
       "      <td>370000.00</td>\n",
       "      <td>2014.00</td>\n",
       "      <td>120000.00</td>\n",
       "      <td>103.52</td>\n",
       "      <td>1498.00</td>\n",
       "      <td>21.14</td>\n",
       "      <td>1</td>\n",
       "      <td>1</td>\n",
       "      <td>0</td>\n",
       "      <td>0</td>\n",
       "      <td>5.00</td>\n",
       "      <td>1</td>\n",
       "    </tr>\n",
       "    <tr>\n",
       "      <th>2</th>\n",
       "      <td>158000.00</td>\n",
       "      <td>2006.00</td>\n",
       "      <td>140000.00</td>\n",
       "      <td>78.00</td>\n",
       "      <td>1497.00</td>\n",
       "      <td>17.70</td>\n",
       "      <td>1</td>\n",
       "      <td>0</td>\n",
       "      <td>0</td>\n",
       "      <td>0</td>\n",
       "      <td>5.00</td>\n",
       "      <td>2</td>\n",
       "    </tr>\n",
       "    <tr>\n",
       "      <th>3</th>\n",
       "      <td>225000.00</td>\n",
       "      <td>2010.00</td>\n",
       "      <td>127000.00</td>\n",
       "      <td>90.00</td>\n",
       "      <td>1396.00</td>\n",
       "      <td>23.00</td>\n",
       "      <td>1</td>\n",
       "      <td>1</td>\n",
       "      <td>0</td>\n",
       "      <td>0</td>\n",
       "      <td>5.00</td>\n",
       "      <td>0</td>\n",
       "    </tr>\n",
       "    <tr>\n",
       "      <th>4</th>\n",
       "      <td>130000.00</td>\n",
       "      <td>2007.00</td>\n",
       "      <td>120000.00</td>\n",
       "      <td>88.20</td>\n",
       "      <td>1298.00</td>\n",
       "      <td>16.10</td>\n",
       "      <td>1</td>\n",
       "      <td>0</td>\n",
       "      <td>0</td>\n",
       "      <td>0</td>\n",
       "      <td>5.00</td>\n",
       "      <td>0</td>\n",
       "    </tr>\n",
       "    <tr>\n",
       "      <th>...</th>\n",
       "      <td>...</td>\n",
       "      <td>...</td>\n",
       "      <td>...</td>\n",
       "      <td>...</td>\n",
       "      <td>...</td>\n",
       "      <td>...</td>\n",
       "      <td>...</td>\n",
       "      <td>...</td>\n",
       "      <td>...</td>\n",
       "      <td>...</td>\n",
       "      <td>...</td>\n",
       "      <td>...</td>\n",
       "    </tr>\n",
       "    <tr>\n",
       "      <th>7879</th>\n",
       "      <td>NaN</td>\n",
       "      <td>NaN</td>\n",
       "      <td>NaN</td>\n",
       "      <td>NaN</td>\n",
       "      <td>NaN</td>\n",
       "      <td>NaN</td>\n",
       "      <td>1</td>\n",
       "      <td>0</td>\n",
       "      <td>0</td>\n",
       "      <td>0</td>\n",
       "      <td>5.00</td>\n",
       "      <td>0</td>\n",
       "    </tr>\n",
       "    <tr>\n",
       "      <th>7880</th>\n",
       "      <td>NaN</td>\n",
       "      <td>NaN</td>\n",
       "      <td>NaN</td>\n",
       "      <td>NaN</td>\n",
       "      <td>NaN</td>\n",
       "      <td>NaN</td>\n",
       "      <td>1</td>\n",
       "      <td>1</td>\n",
       "      <td>0</td>\n",
       "      <td>0</td>\n",
       "      <td>5.00</td>\n",
       "      <td>3</td>\n",
       "    </tr>\n",
       "    <tr>\n",
       "      <th>7881</th>\n",
       "      <td>NaN</td>\n",
       "      <td>NaN</td>\n",
       "      <td>NaN</td>\n",
       "      <td>NaN</td>\n",
       "      <td>NaN</td>\n",
       "      <td>NaN</td>\n",
       "      <td>1</td>\n",
       "      <td>1</td>\n",
       "      <td>0</td>\n",
       "      <td>0</td>\n",
       "      <td>5.00</td>\n",
       "      <td>0</td>\n",
       "    </tr>\n",
       "    <tr>\n",
       "      <th>7882</th>\n",
       "      <td>NaN</td>\n",
       "      <td>NaN</td>\n",
       "      <td>NaN</td>\n",
       "      <td>NaN</td>\n",
       "      <td>NaN</td>\n",
       "      <td>NaN</td>\n",
       "      <td>1</td>\n",
       "      <td>1</td>\n",
       "      <td>0</td>\n",
       "      <td>0</td>\n",
       "      <td>5.00</td>\n",
       "      <td>0</td>\n",
       "    </tr>\n",
       "    <tr>\n",
       "      <th>7883</th>\n",
       "      <td>NaN</td>\n",
       "      <td>NaN</td>\n",
       "      <td>NaN</td>\n",
       "      <td>NaN</td>\n",
       "      <td>NaN</td>\n",
       "      <td>NaN</td>\n",
       "      <td>1</td>\n",
       "      <td>1</td>\n",
       "      <td>0</td>\n",
       "      <td>0</td>\n",
       "      <td>5.00</td>\n",
       "      <td>0</td>\n",
       "    </tr>\n",
       "  </tbody>\n",
       "</table>\n",
       "<p>7884 rows × 12 columns</p>\n",
       "</div>"
      ],
      "text/plain": [
       "      selling_price    year  km_driven  max_power  engine  mileage  name  \\\n",
       "0         450000.00 2014.00  145500.00      74.00 1248.00    23.40     1   \n",
       "1         370000.00 2014.00  120000.00     103.52 1498.00    21.14     1   \n",
       "2         158000.00 2006.00  140000.00      78.00 1497.00    17.70     1   \n",
       "3         225000.00 2010.00  127000.00      90.00 1396.00    23.00     1   \n",
       "4         130000.00 2007.00  120000.00      88.20 1298.00    16.10     1   \n",
       "...             ...     ...        ...        ...     ...      ...   ...   \n",
       "7879            NaN     NaN        NaN        NaN     NaN      NaN     1   \n",
       "7880            NaN     NaN        NaN        NaN     NaN      NaN     1   \n",
       "7881            NaN     NaN        NaN        NaN     NaN      NaN     1   \n",
       "7882            NaN     NaN        NaN        NaN     NaN      NaN     1   \n",
       "7883            NaN     NaN        NaN        NaN     NaN      NaN     1   \n",
       "\n",
       "      fuel  seller_type  transmission  seats  owner  \n",
       "0        1            0             0   5.00      0  \n",
       "1        1            0             0   5.00      1  \n",
       "2        0            0             0   5.00      2  \n",
       "3        1            0             0   5.00      0  \n",
       "4        0            0             0   5.00      0  \n",
       "...    ...          ...           ...    ...    ...  \n",
       "7879     0            0             0   5.00      0  \n",
       "7880     1            0             0   5.00      3  \n",
       "7881     1            0             0   5.00      0  \n",
       "7882     1            0             0   5.00      0  \n",
       "7883     1            0             0   5.00      0  \n",
       "\n",
       "[7884 rows x 12 columns]"
      ]
     },
     "execution_count": 62,
     "metadata": {},
     "output_type": "execute_result"
    }
   ],
   "source": [
    "final_df=pd.concat((numerical,category),axis=1)\n",
    "final_df"
   ]
  },
  {
   "cell_type": "code",
   "execution_count": 63,
   "id": "66cfa988-a0aa-4772-8c37-56b3ea0bb67b",
   "metadata": {},
   "outputs": [],
   "source": [
    "y=final_df['selling_price']\n",
    "x=final_df.drop(columns=\"selling_price\")"
   ]
  },
  {
   "cell_type": "code",
   "execution_count": 64,
   "id": "4c4f82e2-47d8-481f-a30c-93b1cd9da32d",
   "metadata": {},
   "outputs": [
    {
     "name": "stdout",
     "output_type": "stream",
     "text": [
      "[[0. 0. 0. ... 1. 5. 0.]\n",
      " [0. 0. 0. ... 1. 5. 1.]\n",
      " [0. 0. 0. ... 0. 5. 2.]\n",
      " ...\n",
      " [0. 0. 0. ... 1. 5. 0.]\n",
      " [0. 0. 0. ... 1. 5. 0.]\n",
      " [0. 0. 0. ... 1. 5. 0.]]\n"
     ]
    }
   ],
   "source": [
    "#encoding....\n",
    "#fuel and seller type....>apply one hot encoder\n",
    "from sklearn.preprocessing import OneHotEncoder\n",
    "from sklearn.compose import ColumnTransformer\n",
    "ct=ColumnTransformer([(\"encode\",OneHotEncoder (drop=\"first\"),[7,8])],remainder=\"passthrough\")\n",
    "x=ct.fit_transform(x)\n",
    "print(x)"
   ]
  },
  {
   "cell_type": "code",
   "execution_count": null,
   "id": "940059e1-5034-4417-92e1-0318149c75e0",
   "metadata": {},
   "outputs": [],
   "source": []
  }
 ],
 "metadata": {
  "kernelspec": {
   "display_name": "Python 3 (ipykernel)",
   "language": "python",
   "name": "python3"
  },
  "language_info": {
   "codemirror_mode": {
    "name": "ipython",
    "version": 3
   },
   "file_extension": ".py",
   "mimetype": "text/x-python",
   "name": "python",
   "nbconvert_exporter": "python",
   "pygments_lexer": "ipython3",
   "version": "3.11.7"
  }
 },
 "nbformat": 4,
 "nbformat_minor": 5
}
